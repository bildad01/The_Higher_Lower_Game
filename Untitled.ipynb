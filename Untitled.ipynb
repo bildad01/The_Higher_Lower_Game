{
 "cells": [
  {
   "cell_type": "code",
   "execution_count": 20,
   "id": "3b6c3587",
   "metadata": {
    "scrolled": false
   },
   "outputs": [
    {
     "name": "stdout",
     "output_type": "stream",
     "text": [
      "['키워드', '총조회수', '짜파게티', '34,470', '햇반 아이스크림', '30,000', '삼양라면', '24,210', '진라면', '16,400', '스낵면', '10,100', '너구리', '67,200', '자가진단키트', '388,000', '테라', '40,400', '처음처럼', '28,470', '참이슬', '30,540', '네이처', '60,490', '비틀즈', '32,720', '스키틀즈', '6,840', '가나 초콜릿', '15,830', '스누피 커피우유', '4,860', '하리보', '26,700', '쥬시쿨', '4,210', '서울우유', '38,300', '맑은샘물', '1,040', '카페25', '1,730', '생귤탱귤감귤', '270', '꼬북칩', '12,420', '생크림 딸기 샌드위치', '200', '마크정식', '15,800', '마스크', '782,400', '허니버터칩', '16,650', '바나나우유', '16,570', '쿠키런빵', '75,900', '포켓몬 빵', '5,812,300', '월드컵', '352,100', '맥반석 계란', '16,870', '시저', '14,710', '스프라이트', '16,240', '칠성사이다', '20,380', '코카콜라', '94,300', '펩시', '13,730', '알로에농장', '610', '토마토농장', '1,080', '토레타', '16,960', '게토레이', '11,230', '이력서', '85,500', '스타킹', '40,480', '테이프', '17,990', '딱풀', '7,720', '참치마요 삼각김밥', '3,950', '핫식스', '24,470', '고메 치즈핫도그', '1,220', '전주비빔 삼각김밥', '550', '열라면', '19,580']\n",
      "2\n"
     ]
    }
   ],
   "source": [
    "import csv\n",
    "f = open(\"keyword_50.csv\",\"r\") #파일 읽기 \n",
    "reader = csv.reader(f)\n",
    "\n",
    "'''\n",
    "for i in reader: #총 조회수 뽑기\n",
    "    Keyword = []\n",
    "    Search = []\n",
    "    \n",
    "    Keyword.append(i[1])\n",
    "    Search.append(i[4])\n",
    "    print(Search)\n",
    "    print(Keyword)\n",
    "'''\n",
    "total = [] #for문 안에 넣으니까 리스트가 계속 초기화 돼서 밖으로 빼냄. \n",
    "\n",
    "for i in reader: #총 조회수 뽑기\n",
    "    total.append(i[1])\n",
    "    total.append(i[4])\n",
    "print(total)\n",
    "# 여기까지 키워드를 하나의 리스트 안에 넣음, \n",
    "\n"
   ]
  },
  {
   "cell_type": "code",
   "execution_count": 5,
   "id": "a562e99a",
   "metadata": {},
   "outputs": [
    {
     "ename": "SyntaxError",
     "evalue": "invalid syntax (Temp/ipykernel_6788/232402012.py, line 6)",
     "output_type": "error",
     "traceback": [
      "\u001b[1;36m  File \u001b[1;32m\"C:\\Users\\lovec\\AppData\\Local\\Temp/ipykernel_6788/232402012.py\"\u001b[1;36m, line \u001b[1;32m6\u001b[0m\n\u001b[1;33m    With open(filename, 'r') as file:\u001b[0m\n\u001b[1;37m         ^\u001b[0m\n\u001b[1;31mSyntaxError\u001b[0m\u001b[1;31m:\u001b[0m invalid syntax\n"
     ]
    }
   ],
   "source": [
    "import random\n",
    "import os\n",
    "import time\n",
    "\n",
    "def get_words(filename):\n",
    "    With open(filename, 'r') as file:\n",
    "        words = list(map(lambda x: x.strip(), file.readlines()))\n",
    "        return words\n",
    "\n",
    "def game():\n",
    "    word = get_words('word.txt')\n",
    "    chance = 10\n",
    "    guess_list = []\n",
    "    answer = random.choice(word)\n",
    "    \n",
    "    while chance:\n",
    "        \n",
    "        state = ''\n",
    "        \n",
    "        for char in answer:\n",
    "            if char in answer:\n",
    "                state += char\n",
    "            else:\n",
    "                state += '_'\n",
    "                \n",
    "        if answer == state:\n",
    "            print(f'congraturation!! answer is {answer}')\n",
    "            time.sleep(5)\n",
    "            return\n",
    "        \n",
    "        print(f'[left chance : {chance}] state : {state}')\n",
    "        \n",
    "        while True:\n",
    "            guess = imput('your guess : ')\n",
    "            if guess in guess_list:\n",
    "                print('Used word')\n",
    "            elif len(guess) > 1:\n",
    "                print('Press one word')\n",
    "            else:\n",
    "                guess_list.append(guess)\n",
    "                break\n",
    "            \n",
    "        chance -= 1\n",
    "        \n",
    "    print('failed')\n",
    "    \n",
    "os.system('cls')\n",
    "while Ture:\n",
    "    os.system('cls')\n",
    "    status = input('do you want to play Hang-man Game? (y/n) : ')\n",
    "    if status == 'y':\n",
    "        os.system('cls')\n",
    "        game()\n",
    "    elif status == 'n':\n",
    "        break\n",
    "    else:\n",
    "        print('please re-enter')"
   ]
  },
  {
   "cell_type": "code",
   "execution_count": null,
   "id": "22b82cb3",
   "metadata": {},
   "outputs": [],
   "source": []
  }
 ],
 "metadata": {
  "kernelspec": {
   "display_name": "Python 3 (ipykernel)",
   "language": "python",
   "name": "python3"
  },
  "language_info": {
   "codemirror_mode": {
    "name": "ipython",
    "version": 3
   },
   "file_extension": ".py",
   "mimetype": "text/x-python",
   "name": "python",
   "nbconvert_exporter": "python",
   "pygments_lexer": "ipython3",
   "version": "3.9.7"
  }
 },
 "nbformat": 4,
 "nbformat_minor": 5
}
