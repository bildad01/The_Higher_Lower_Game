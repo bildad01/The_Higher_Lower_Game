{
 "cells": [
  {
   "cell_type": "code",
   "execution_count": 90,
   "id": "3b6c3587",
   "metadata": {
    "scrolled": false
   },
   "outputs": [
    {
     "name": "stdout",
     "output_type": "stream",
     "text": [
      "['키워드', '총조회수', '힙합', '13,690', '동물의숲', '62,780', '꼰대', '18,430', '심슨', '21,110', '독도', '72,500', '초코파이', '24,240', '스폰지밥', '36,540', '제시', '170,300', '악동뮤지션', '31,140', '인생네컷', '192,700', '펩시 제로', '31,620', '싸이', '748,300', 'yg엔터테인먼트', '165,100', 'sm엔터테인먼트', '165,200', '월드컵', '90,500', '코카콜라', '103,900', '나무위키', '5,159,600', '엘지', '43,970', '삼성', '261,900', '왕십리', '27,980', '완십리', '20', 'BTS', '598,000', '서유기', '8,430', '2022 카타르 월드컵', '179,900', '워터밤 2022', '295,900', '비트코인', '2,115,300', '효도', '9,630', '똥', '28,500', '쿠키런 킹덤', '103,300', '트위치', '782,500', '메이플스토리', '294,900', '소닉', '51,550', '닥터스트레인지2', '355,800', '범죄도시2', '6,796,400', '김가람', '1,266,200', '제니', '173,700', '포켓몬빵', '2,376,300', '빌게이츠', '67,400', '깻잎논쟁', '53,830', '코로나', '2,891,600', '전투기', '8,580', '더 많이 더 적게', '4,560', '초음파', '10,160', '사랑', '47,540', '오리온', '86,400', '파이썬', '55,000', '라라랜드', '69,790', '크루엘라', '43,500', '계란', '42,690', '스티커', '52,400', '진주', '100,100', '뼈해장국', '46,190', '인공지능', '47,800', '빅데이터', '38,700', '주식', '711,600']\n"
     ]
    }
   ],
   "source": [
    "import csv\n",
    "import os\n",
    "import random\n",
    "\n",
    "f = open(\"new_keyword.csv\",\"r\", encoding=\"utf-8\") #파일 읽기 \n",
    "reader = csv.reader(f)\n",
    "\n",
    "total = [] #for문 안에 넣으니까 리스트가 계속 초기화 돼서 밖으로 빼냄. \n",
    "\n",
    "for i in reader: #총 조회수 뽑기\n",
    "    total.append(i[1])\n",
    "    total.append(i[4])\n",
    "print(total)\n",
    "# 여기까지 키워드를 하나의 리스트 안에 넣음\n",
    "\n",
    "#키워드- 조회수로 묶어야 함\n",
    "\n",
    "\n",
    "#os.system('cls')#콘솔창 초기화"
   ]
  },
  {
   "cell_type": "code",
   "execution_count": 1,
   "id": "a562e99a",
   "metadata": {},
   "outputs": [
    {
     "ename": "SyntaxError",
     "evalue": "invalid syntax (Temp/ipykernel_7644/232402012.py, line 6)",
     "output_type": "error",
     "traceback": [
      "\u001b[1;36m  File \u001b[1;32m\"C:\\Users\\lovec\\AppData\\Local\\Temp/ipykernel_7644/232402012.py\"\u001b[1;36m, line \u001b[1;32m6\u001b[0m\n\u001b[1;33m    With open(filename, 'r') as file:\u001b[0m\n\u001b[1;37m         ^\u001b[0m\n\u001b[1;31mSyntaxError\u001b[0m\u001b[1;31m:\u001b[0m invalid syntax\n"
     ]
    }
   ],
   "source": [
    "import random\n",
    "import os\n",
    "import time\n",
    "\n",
    "def get_words(filename):\n",
    "    With open(filename, 'r') as file:\n",
    "        words = list(map(lambda x: x.strip(), file.readlines()))\n",
    "        return words\n",
    "\n",
    "def game():\n",
    "    word = get_words('word.txt')\n",
    "    chance = 10\n",
    "    guess_list = []\n",
    "    answer = random.choice(word)\n",
    "    \n",
    "    while chance:\n",
    "        \n",
    "        state = ''\n",
    "        \n",
    "        for char in answer:\n",
    "            if char in answer:\n",
    "                state += char\n",
    "            else:\n",
    "                state += '_'\n",
    "                \n",
    "        if answer == state:\n",
    "            print(f'congraturation!! answer is {answer}')\n",
    "            time.sleep(5)\n",
    "            return\n",
    "        \n",
    "        print(f'[left chance : {chance}] state : {state}')\n",
    "        \n",
    "        while True:\n",
    "            guess = imput('your guess : ')\n",
    "            if guess in guess_list:\n",
    "                print('Used word')\n",
    "            elif len(guess) > 1:\n",
    "                print('Press one word')\n",
    "            else:\n",
    "                guess_list.append(guess)\n",
    "                break\n",
    "            \n",
    "        chance -= 1\n",
    "        \n",
    "    print('failed')\n",
    "    \n",
    "os.system('cls')\n",
    "while Ture:\n",
    "    os.system('cls')\n",
    "    status = input('do you want to play Hang-man Game? (y/n) : ')\n",
    "    if status == 'y':\n",
    "        os.system('cls')\n",
    "        game()\n",
    "    elif status == 'n':\n",
    "        break\n",
    "    else:\n",
    "        print('please re-enter')"
   ]
  },
  {
   "cell_type": "code",
   "execution_count": 95,
   "id": "22b82cb3",
   "metadata": {},
   "outputs": [
    {
     "name": "stdout",
     "output_type": "stream",
     "text": [
      "{'키워드': '총조회수', '힙합': '13,690', '동물의숲': '62,780', '꼰대': '18,430', '심슨': '21,110', '독도': '72,500', '초코파이': '24,240', '스폰지밥': '36,540', '제시': '170,300', '악동뮤지션': '31,140', '인생네컷': '192,700', '펩시 제로': '31,620', '싸이': '748,300', 'yg엔터테인먼트': '165,100', 'sm엔터테인먼트': '165,200', '월드컵': '90,500', '코카콜라': '103,900', '나무위키': '5,159,600', '엘지': '43,970', '삼성': '261,900', '왕십리': '27,980', '완십리': '20', 'BTS': '598,000', '서유기': '8,430', '2022 카타르 월드컵': '179,900', '워터밤 2022': '295,900', '비트코인': '2,115,300', '효도': '9,630', '똥': '28,500', '쿠키런 킹덤': '103,300', '트위치': '782,500', '메이플스토리': '294,900', '소닉': '51,550', '닥터스트레인지2': '355,800', '범죄도시2': '6,796,400', '김가람': '1,266,200', '제니': '173,700', '포켓몬빵': '2,376,300', '빌게이츠': '67,400', '깻잎논쟁': '53,830', '코로나': '2,891,600', '전투기': '8,580', '더 많이 더 적게': '4,560', '초음파': '10,160', '사랑': '47,540', '오리온': '86,400', '파이썬': '55,000', '라라랜드': '69,790', '크루엘라': '43,500', '계란': '42,690', '스티커': '52,400', '진주': '100,100', '뼈해장국': '46,190', '인공지능': '47,800', '빅데이터': '38,700', '주식': '711,600'}\n"
     ]
    }
   ],
   "source": [
    "import csv\n",
    "import random\n",
    "\n",
    "keywords = [] #키워드를 넣어라 \n",
    "#search = [] # 검색량을 넣어라\n",
    "search_volume =[]\n",
    "    \n",
    "def get_dictionary(): #csv파일에서 원하는 값만 사전형으로 만들기\n",
    "    f = open(\"new_keyword.csv\",\"r\", encoding=\"utf-8\") #파일 읽기 \n",
    "    reader = csv.reader(f)\n",
    "    \n",
    "    for i in reader: #총 조회수 뽑기\n",
    "        keywords.append(i[1]) #키워드\n",
    "        #search.append(i[4]) #검색량 \n",
    "        search_volume.append(i[4])\n",
    "    '''\n",
    "    #문자열을 int형으로 바꾸기 - 근데 오류남\n",
    "    search_volume = list(map(int, search))\n",
    "    print(search_volume)\n",
    "    '''    \n",
    "    #print(keyword)\n",
    "    #print(search_volume)\n",
    "    \n",
    "#https://www.delftstack.com/ko/howto/python/python-dictionary-to-csv/\n",
    "def new_file(): # 새로운 파일에 저장하기\n",
    "    with open('dct.csv', 'w') as f:  \n",
    "        writer = csv.writer(f)\n",
    "        for k, v in total.items():\n",
    "            writer.writerow([k, v])\n",
    "\n",
    "def get_keyword():\n",
    "    used = [] #랜덤으로 추출된 값을 넣기.(넣어서 중복 키워드 출력 예방)\n",
    "    del keywords[0] \n",
    "    for i in keywords:\n",
    "        r_keyword = random.choice(keywords) #지우기보단 다른 리스트에 저장하고 싶음.\n",
    "        #여기에 랜덤으로 추출된 값이 키와 값으로 프린트 되어야 함. \n",
    "        used.append(r_keyword)\n",
    "        #keyword.remove(r_kryword)\n",
    "        #중복된 값이 없도록 코드를 구현해야 한다. \n",
    "            \n",
    "    #print(used)\n",
    "    \n",
    "get_dictionary()\n",
    "\n",
    "#참고자료 // 리스트 2개를 사전으로 넣기 // 밖으로 뺴내야 하나?    \n",
    "#https://dojang.io/mod/page/view.php?id=2213\n",
    "total = dict(zip(keywords,search_volume))\n",
    "#print(total)\n",
    "\n",
    "new_file()\n",
    "\n",
    "get_keyword()\n",
    "#중복된 값 지우고 새로운 키워드를 뽑아야 함 /  랭킹 구현을 위해 아이디 입력받고 텍스트 파일에 저장, 가능하면 시각자료는 표준 성공시간/ \n",
    "#시간이 있다면 사진 가져오기(크롤링)"
   ]
  },
  {
   "cell_type": "code",
   "execution_count": 62,
   "id": "44004d14",
   "metadata": {},
   "outputs": [
    {
     "name": "stdout",
     "output_type": "stream",
     "text": [
      "자가진단키트 !\n",
      "비틀즈 !\n",
      "고메 치즈핫도그 !\n",
      "스타킹 !\n",
      "전주비빔 삼각김밥 !\n",
      "테라 !\n",
      "쿠키런빵 !\n",
      "맑은샘물 !\n",
      "스낵면 !\n",
      "알로에농장 !\n",
      "꼬북칩 !\n",
      "게토레이 !\n",
      "전주비빔 삼각김밥 !\n",
      "마크정식 !\n",
      "맑은샘물 !\n",
      "고메 치즈핫도그 !\n",
      "삼양라면 !\n",
      "월드컵 !\n",
      "참치마요 삼각김밥 !\n",
      "쿠키런빵 !\n",
      "코카콜라 !\n",
      "자가진단키트 !\n",
      "서울우유 !\n",
      "스프라이트 !\n",
      "알로에농장 !\n",
      "이력서 !\n",
      "가나 초콜릿 !\n",
      "쥬시쿨 !\n",
      "펩시 !\n",
      "참이슬 !\n",
      "카페25 !\n",
      "월드컵 !\n",
      "딱풀 !\n",
      "가나 초콜릿 !\n",
      "마크정식 !\n",
      "참치마요 삼각김밥 !\n",
      "스키틀즈 !\n",
      "진라면 !\n",
      "참치마요 삼각김밥 !\n",
      "자가진단키트 !\n",
      "쿠키런빵 !\n",
      "스프라이트 !\n",
      "네이처 !\n",
      "고메 치즈핫도그 !\n",
      "게토레이 !\n",
      "네이처 !\n",
      "칠성사이다 !\n",
      "테라 !\n",
      "['자가진단키트', '비틀즈', '고메 치즈핫도그', '스타킹', '전주비빔 삼각김밥', '테라', '쿠키런빵', '맑은샘물', '스낵면', '알로에농장', '꼬북칩', '게토레이', '전주비빔 삼각김밥', '마크정식', '맑은샘물', '고메 치즈핫도그', '삼양라면', '월드컵', '참치마요 삼각김밥', '쿠키런빵', '코카콜라', '자가진단키트', '서울우유', '스프라이트', '알로에농장', '이력서', '가나 초콜릿', '쥬시쿨', '펩시', '참이슬', '카페25', '월드컵', '딱풀', '가나 초콜릿', '마크정식', '참치마요 삼각김밥', '스키틀즈', '진라면', '참치마요 삼각김밥', '자가진단키트', '쿠키런빵', '스프라이트', '네이처', '고메 치즈핫도그', '게토레이', '네이처', '칠성사이다', '테라']\n"
     ]
    }
   ],
   "source": [
    "used = [] #랜덤으로 추출된 값을 넣기.(넣어서 중복 키워드 출력 예방)\n",
    "del keyword[0] \n",
    "for i in keyword:\n",
    "    r_keyword = random.choice(keyword) #지우기보단 다른 리스트에 저장하고 싶음.\n",
    "    #r_keyword가 used안에 없다면 참이다.\n",
    "    print(r_keyword,\"!\")\n",
    "    used.append(r_keyword)\n",
    "        \n",
    "    if [r_keyword] not in used:\n",
    "        total_dic.get(r_keyword)\n",
    "            \n",
    "    else:\n",
    "        print('랜덤값')\n",
    "            \n",
    "print(used)"
   ]
  },
  {
   "cell_type": "code",
   "execution_count": 88,
   "id": "5b42f40f",
   "metadata": {},
   "outputs": [
    {
     "name": "stdout",
     "output_type": "stream",
     "text": [
      "\n"
     ]
    }
   ],
   "source": [
    "import csv\n",
    "f = open(\"new_keyword.csv\",\"r\") #파일 읽기 \n",
    "reader = csv.reader(f)\n",
    "\n",
    "print()"
   ]
  },
  {
   "cell_type": "code",
   "execution_count": null,
   "id": "a3db2316",
   "metadata": {},
   "outputs": [],
   "source": []
  }
 ],
 "metadata": {
  "kernelspec": {
   "display_name": "Python 3 (ipykernel)",
   "language": "python",
   "name": "python3"
  },
  "language_info": {
   "codemirror_mode": {
    "name": "ipython",
    "version": 3
   },
   "file_extension": ".py",
   "mimetype": "text/x-python",
   "name": "python",
   "nbconvert_exporter": "python",
   "pygments_lexer": "ipython3",
   "version": "3.9.7"
  }
 },
 "nbformat": 4,
 "nbformat_minor": 5
}
